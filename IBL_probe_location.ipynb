{
 "cells": [
  {
   "cell_type": "markdown",
   "metadata": {},
   "source": [
    "## Where is the probe?"
   ]
  },
  {
   "cell_type": "code",
   "execution_count": null,
   "metadata": {},
   "outputs": [],
   "source": [
    "import matplotlib.pyplot as plt\n",
    "from pathlib import Path\n",
    "\n",
    "\n",
    "import spikeinterface.full as si\n",
    "import spikeinterface.extractors as se\n",
    "import spikeinterface.widgets as sw\n",
    "\n",
    "import numpy as np\n",
    "import  multitaper\n",
    "from tqdm import tqdm\n",
    "import pandas as pd\n",
    "\n",
    "INPUT = '/ceph/sjones/projects/FlexiVexi/raw_data/FNT103/2024-08-29T15-17-32/Open-Ephys/FNT103_2024-09-03_15-17-05/Record Node 103'"
   ]
  },
  {
   "cell_type": "markdown",
   "metadata": {},
   "source": [
    "## Have a look at local data"
   ]
  },
  {
   "cell_type": "code",
   "execution_count": null,
   "metadata": {},
   "outputs": [],
   "source": [
    "recording = se.read_openephys(INPUT, stream_id  = '1')\n",
    "seg1 = recording.select_segments(0)"
   ]
  },
  {
   "cell_type": "code",
   "execution_count": null,
   "metadata": {},
   "outputs": [],
   "source": [
    "seg1"
   ]
  },
  {
   "cell_type": "markdown",
   "metadata": {},
   "source": [
    "rec1 = si.highpass_filter(recording, freq_min=400.)\n",
    "bad_channel_ids, channel_labels = si.detect_bad_channels(rec1)\n",
    "rec2 = rec1.remove_channels(bad_channel_ids)\n",
    "print('bad_channel_ids', bad_channel_ids)\n",
    "\n",
    "rec3 = si.phase_shift(rec2)\n",
    "rec4 = si.common_reference(rec3, operator=\"median\", reference=\"global\")\n",
    "rec = rec4\n",
    "rec"
   ]
  },
  {
   "cell_type": "code",
   "execution_count": null,
   "metadata": {},
   "outputs": [],
   "source": [
    "split_recording_dict = recording.split_by(\"group\")\n"
   ]
  },
  {
   "cell_type": "code",
   "execution_count": null,
   "metadata": {},
   "outputs": [],
   "source": [
    "probe1 = split_recording_dict[1]"
   ]
  },
  {
   "cell_type": "markdown",
   "metadata": {},
   "source": [
    "w_ts = sw.plot_traces(probe1, mode=\"map\", time_range=(5, 15), show_channel_ids=True, order_channel_by_depth=True, seconds_per_row=60, clim  = (-50, 50))\n"
   ]
  },
  {
   "cell_type": "markdown",
   "metadata": {},
   "source": [
    "Keep 10s of data"
   ]
  },
  {
   "cell_type": "code",
   "execution_count": null,
   "metadata": {},
   "outputs": [],
   "source": [
    "samp = probe1.sampling_frequency\n",
    "traces =  (probe1.get_traces(start_frame=5*samp, end_frame=15*samp)).T"
   ]
  },
  {
   "cell_type": "code",
   "execution_count": null,
   "metadata": {},
   "outputs": [],
   "source": [
    "traces.shape"
   ]
  },
  {
   "cell_type": "code",
   "execution_count": null,
   "metadata": {},
   "outputs": [],
   "source": [
    "nChans, nSamps = traces.shape\n",
    "print('Data has %d channels and %d samples',(nChans,nSamps))\n",
    "plt.plot(np.arange(nSamps)/samp,traces[0,:]/1000)\n",
    "plt.xlabel('Time (s)')\n",
    "plt.ylabel('LFP (mV)')"
   ]
  },
  {
   "cell_type": "markdown",
   "metadata": {},
   "source": [
    "They want to have a look at power in Dbs in the delta band (0-4 Hz). We use multitaper because the window is so short.  "
   ]
  },
  {
   "cell_type": "code",
   "execution_count": null,
   "metadata": {},
   "outputs": [],
   "source": [
    "psd = multitaper.MTSpec(x=traces[0,:]/10E6, dt=1.0/samp, nw=5) # run the multitaper spectrum\n",
    "pxx, f = psd.spec, psd.freq # unpack power spectrum and frequency from output\n",
    "plot_range = (f<=10) & (f>=0) # find the frequencies we want to plot\n",
    "plt.semilogy(f[plot_range],pxx[plot_range])\n",
    "plt.xlabel('frequency (Hz)')\n",
    "plt.ylabel('power (V**2)')"
   ]
  },
  {
   "cell_type": "code",
   "execution_count": null,
   "metadata": {},
   "outputs": [],
   "source": [
    "# Define your trace and sampling rate\n",
    "trace = traces[0, :] / 10E6  # Example trace, adjust scaling as needed\n",
    "n = len(trace)\n",
    "dt = 1.0 / samp  # Sampling interval\n",
    "\n",
    "# Run FFT\n",
    "fft_values = np.fft.rfft(trace)\n",
    "frequencies = np.fft.rfftfreq(n, dt)\n",
    "\n",
    "# Calculate the power spectral density (PSD)\n",
    "psd = np.abs(fft_values) ** 2 / n\n",
    "\n",
    "# Define the frequency range (0 to 10 Hz)\n",
    "plot_range = (frequencies <= 10) & (frequencies >= 0)\n",
    "\n",
    "# Plot the power spectral density\n",
    "plt.semilogy(frequencies[plot_range], psd[plot_range])\n",
    "plt.xlabel('Frequency (Hz)')\n",
    "plt.ylabel('Power (V^2)')\n",
    "plt.show()"
   ]
  },
  {
   "cell_type": "code",
   "execution_count": null,
   "metadata": {},
   "outputs": [],
   "source": [
    "# Define the frequency range of interest (0-4 Hz)\n",
    "band_range = (f >= 0) & (f <= 4)\n",
    "\n",
    "# Calculate the total power in the 0-4 Hz band by summing the power values in that range\n",
    "power_band = np.sum(pxx[band_range])\n",
    "\n",
    "# Convert the power to dB\n",
    "power_db = 10 * np.log10(power_band)\n",
    "\n",
    "power_db"
   ]
  },
  {
   "cell_type": "markdown",
   "metadata": {},
   "source": [
    "Let's do it for all 96"
   ]
  },
  {
   "cell_type": "code",
   "execution_count": null,
   "metadata": {},
   "outputs": [],
   "source": [
    "pxx_list = list(np.zeros(96))\n",
    "f_list = list(np.zeros(96))\n",
    "\n",
    "for i in tqdm(np.arange(len(pxx_list))):\n",
    "    print (i)\n",
    "    psd = multitaper.MTSpec(x=traces[i,:]/10E6, dt=1.0/samp, nw=5) # run the multitaper spectrum\n",
    "    pxx, f = psd.spec, psd.freq # unpack power spectrum and frequency from output\n",
    "    pxx_list[i] = pxx\n",
    "    f_list[i] = f"
   ]
  },
  {
   "cell_type": "code",
   "execution_count": null,
   "metadata": {},
   "outputs": [],
   "source": [
    "freq_per_channel = {\n",
    "    'channel': np.arange(96), \n",
    "    'pxx': pxx_list, \n",
    "    'f': f_list\n",
    "}\n",
    "\n",
    "freq =  pd.DataFrame(freq_per_channel)"
   ]
  },
  {
   "cell_type": "code",
   "execution_count": null,
   "metadata": {},
   "outputs": [],
   "source": [
    "freq.to_csv('freq.csv')"
   ]
  },
  {
   "cell_type": "code",
   "execution_count": null,
   "metadata": {},
   "outputs": [],
   "source": [
    "def get_delta_power(pxx, f):\n",
    "    # Define the frequency range of interest (0-4 Hz)\n",
    "    band_range = (f >= 0) & (f <= 4)\n",
    "\n",
    "    # Calculate the total power in the 0-4 Hz band by summing the power values in that range\n",
    "    power_band = np.sum(pxx[band_range])\n",
    "\n",
    "    # Convert the power to dB\n",
    "    power_db = 10 * np.log10(power_band)\n",
    "\n",
    "    return power_db"
   ]
  },
  {
   "cell_type": "code",
   "execution_count": null,
   "metadata": {},
   "outputs": [],
   "source": [
    "freq['delta_power'] =  [get_delta_power(pxx, f) for pxx,f in zip(pxx_list, f_list)]"
   ]
  },
  {
   "cell_type": "code",
   "execution_count": null,
   "metadata": {},
   "outputs": [],
   "source": [
    "freq.to_csv('freq.csv')"
   ]
  },
  {
   "cell_type": "code",
   "execution_count": null,
   "metadata": {},
   "outputs": [],
   "source": [
    "probemap = probe1.get_probe().to_dataframe()"
   ]
  },
  {
   "cell_type": "code",
   "execution_count": null,
   "metadata": {},
   "outputs": [],
   "source": [
    "fig, ax = plt.subplots(figsize=(15, 10))\n",
    "si.plot_probe_map(probe1, ax=ax, with_channel_ids=True)\n",
    "ax.set_ylim(-100, 9000)"
   ]
  },
  {
   "cell_type": "code",
   "execution_count": null,
   "metadata": {},
   "outputs": [],
   "source": [
    "probemap"
   ]
  },
  {
   "cell_type": "code",
   "execution_count": null,
   "metadata": {},
   "outputs": [],
   "source": [
    "probemap['channel'] = probe1.channel_ids\n",
    "probemap['dbs'] = freq['delta_power']"
   ]
  },
  {
   "cell_type": "code",
   "execution_count": null,
   "metadata": {},
   "outputs": [],
   "source": [
    "fig, ax = plt.subplots()\n",
    "\n",
    "# Create a scatter plot\n",
    "sc = ax.scatter(probemap['x'], probemap['y'], c=probemap['dbs'], cmap='viridis', s=50)\n",
    "\n",
    "# Add color bar for the 'dfs' values (make sure to pass the scatter plot object `sc`)\n",
    "cbar = plt.colorbar(sc, ax=ax)\n",
    "cbar.set_label('Delta power (power in Db from 0 to 4 Hz in a signal in V)')\n",
    "\n",
    "# Set x-axis limits\n",
    "ax.set_xlim((100, 450))"
   ]
  },
  {
   "cell_type": "code",
   "execution_count": null,
   "metadata": {},
   "outputs": [],
   "source": [
    "\n",
    "probemap.to_csv('probemap.csv')"
   ]
  },
  {
   "cell_type": "code",
   "execution_count": null,
   "metadata": {},
   "outputs": [],
   "source": []
  }
 ],
 "metadata": {
  "kernelspec": {
   "display_name": "Python 3 (ipykernel)",
   "language": "python",
   "name": "python3"
  },
  "language_info": {
   "codemirror_mode": {
    "name": "ipython",
    "version": 3
   },
   "file_extension": ".py",
   "mimetype": "text/x-python",
   "name": "python",
   "nbconvert_exporter": "python",
   "pygments_lexer": "ipython3",
   "version": "3.9.19"
  }
 },
 "nbformat": 4,
 "nbformat_minor": 2
}
