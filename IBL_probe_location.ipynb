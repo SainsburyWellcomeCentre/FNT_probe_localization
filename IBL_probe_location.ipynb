{
 "cells": [
  {
   "cell_type": "markdown",
   "metadata": {},
   "source": [
    "## Where is the probe?"
   ]
  },
  {
   "cell_type": "code",
   "execution_count": 6,
   "metadata": {},
   "outputs": [],
   "source": [
    "import matplotlib.pyplot as plt\n",
    "from pathlib import Path\n",
    "\n",
    "\n",
    "import spikeinterface.full as si\n",
    "import spikeinterface.extractors as se\n",
    "import spikeinterface.widgets as sw\n",
    "\n",
    "import numpy as np\n",
    "import  multitaper\n",
    "from tqdm import tqdm\n",
    "import pandas as pd\n",
    "from scipy import signal\n",
    "\n",
    "INPUT = '/ceph/sjones/projects/FlexiVexi/raw_data/FNT103/2024-09-05T14-53-54/Open-Ephys/2024-09-05_15-53-47/Record Node 103'\n",
    "#INPUT = '/ceph/sjones/projects/sequences/NPX_DATA/SP156_all_shanks'"
   ]
  },
  {
   "cell_type": "markdown",
   "metadata": {},
   "source": [
    "## Have a look at local data"
   ]
  },
  {
   "cell_type": "code",
   "execution_count": 7,
   "metadata": {},
   "outputs": [],
   "source": [
    "recording = se.read_openephys(INPUT, stream_id  = '1', block_index = 0)\n"
   ]
  },
  {
   "cell_type": "markdown",
   "metadata": {},
   "source": [
    "rec1 = si.highpass_filter(recording, freq_min=400)\n",
    "rec = si.common_reference(rec1, operator=\"median\", reference=\"global\")\n"
   ]
  },
  {
   "cell_type": "code",
   "execution_count": null,
   "metadata": {},
   "outputs": [],
   "source": [
    "split_recording_dict = recording.split_by(\"group\")\n"
   ]
  },
  {
   "cell_type": "code",
   "execution_count": null,
   "metadata": {},
   "outputs": [],
   "source": [
    "probe1 = split_recording_dict[3]"
   ]
  },
  {
   "cell_type": "markdown",
   "metadata": {},
   "source": [
    "w_ts = sw.plot_traces(probe1, mode=\"map\", time_range=(5, 15), show_channel_ids=True, order_channel_by_depth=True, seconds_per_row=60, clim  = (-50, 50))\n"
   ]
  },
  {
   "cell_type": "markdown",
   "metadata": {},
   "source": [
    "Keep 10s of data"
   ]
  },
  {
   "cell_type": "code",
   "execution_count": null,
   "metadata": {},
   "outputs": [],
   "source": [
    "samp = probe1.sampling_frequency\n",
    "traces =  (probe1.get_traces(start_frame=5*samp, end_frame=15*samp)).T"
   ]
  },
  {
   "cell_type": "code",
   "execution_count": null,
   "metadata": {},
   "outputs": [],
   "source": [
    "traces.shape"
   ]
  },
  {
   "cell_type": "markdown",
   "metadata": {},
   "source": [
    "### Look at traces"
   ]
  },
  {
   "cell_type": "code",
   "execution_count": null,
   "metadata": {},
   "outputs": [],
   "source": [
    "nChans, nSamps = traces.shape\n",
    "print('Data has %d channels and %d samples',(nChans,nSamps))\n",
    "plt.plot(np.arange(nSamps)/samp,traces[0,:]/1000)\n",
    "plt.xlabel('Time (s)')\n",
    "plt.ylabel('LFP (mV)')"
   ]
  },
  {
   "cell_type": "code",
   "execution_count": null,
   "metadata": {},
   "outputs": [],
   "source": []
  },
  {
   "cell_type": "markdown",
   "metadata": {},
   "source": [
    "Now, let's have a look at the LFP by depth. We remove slow oscillations and "
   ]
  },
  {
   "cell_type": "code",
   "execution_count": null,
   "metadata": {},
   "outputs": [],
   "source": [
    "rec1 = si.bandpass_filter(recording=recording, freq_min=300, freq_max=6000)\n",
    "\n",
    "\n",
    "rec = si.common_reference(rec1, operator=\"median\", reference=\"global\")\n",
    "\n",
    "# Plot with spikeinterface or sw.plot_traces\n",
    "w_ts = sw.plot_traces(rec, mode=\"map\", time_range=(5, 15), show_channel_ids=True, order_channel_by_depth=True)\n",
    "\n",
    "# If w_ts is an Axes object, this will get the parent figure\n",
    "fig = w_ts.figure\n",
    "ax = w_ts.ax\n",
    "\n",
    "# Set the figure size (width, height)\n",
    "fig.set_size_inches(10, 15)\n",
    "\n",
    "# Get the current y-ticks\n",
    "yticks = ax.get_yticks()\n",
    "\n",
    "# Set the y-ticks to show only every 10th channel\n",
    "new_yticks = yticks[::10]\n",
    "ax.set_yticks(new_yticks)\n",
    "\n",
    "# Show the modified plot\n",
    "plt.show()"
   ]
  },
  {
   "cell_type": "code",
   "execution_count": null,
   "metadata": {},
   "outputs": [],
   "source": [
    "traces =  (rec.get_traces(start_frame=5*samp, end_frame=15*samp)).T\n"
   ]
  },
  {
   "cell_type": "code",
   "execution_count": null,
   "metadata": {},
   "outputs": [],
   "source": [
    "\n",
    "nChans, nSamps = traces.shape\n",
    "print('Data has %d channels and %d samples',(nChans,nSamps))\n",
    "plt.figure(figsize=(30, 6))\n",
    "plt.plot(np.arange(nSamps)/samp,traces[139,:]/1000)\n",
    "plt.xlabel('Time (s)')\n",
    "plt.ylabel('LFP (mV)')"
   ]
  },
  {
   "cell_type": "markdown",
   "metadata": {},
   "source": [
    "### Welch power spectrum"
   ]
  },
  {
   "cell_type": "markdown",
   "metadata": {},
   "source": [
    "Break into four 4.5 slices of 2.5s, average them"
   ]
  },
  {
   "cell_type": "code",
   "execution_count": null,
   "metadata": {},
   "outputs": [],
   "source": [
    "samp"
   ]
  },
  {
   "cell_type": "code",
   "execution_count": null,
   "metadata": {},
   "outputs": [],
   "source": [
    "rec_welch = si.bandpass_filter(recording=recording, freq_min=1, freq_max=samp/2-1)\n",
    "#Less than nyquist, more than 1\n",
    "\n",
    "traces =  (rec_welch.get_traces(start_frame=5*samp, end_frame=45*samp)).T\n",
    "nChans, nSamps = traces.shape\n"
   ]
  },
  {
   "cell_type": "code",
   "execution_count": null,
   "metadata": {},
   "outputs": [],
   "source": [
    "n_windows =  4\n",
    "window_samples = nSamps//n_windows\n",
    "windows = np.zeros((n_windows, 2))\n",
    "index = 0\n",
    "for window in np.arange(n_windows):\n",
    "    windows[index, 0] = index*window_samples\n",
    "    windows[index, 1] = index*window_samples + window_samples\n",
    "    index +=1\n",
    "\n"
   ]
  },
  {
   "cell_type": "code",
   "execution_count": null,
   "metadata": {},
   "outputs": [],
   "source": [
    "def fscale(ns, si=1, one_sided=False):\n",
    "    \"\"\"\n",
    "    numpy.fft.fftfreq returns Nyquist as a negative frequency so we propose this instead\n",
    "\n",
    "    :param ns: number of samples\n",
    "    :param si: sampling interval in seconds\n",
    "    :param one_sided: if True, returns only positive frequencies\n",
    "    :return: fscale: numpy vector containing frequencies in Hertz\n",
    "    \"\"\"\n",
    "    fsc = np.arange(0, np.floor(ns / 2) + 1) / ns / si  # sample the frequency scale\n",
    "    if one_sided:\n",
    "        return fsc\n",
    "    else:\n",
    "        return np.concatenate((fsc, -fsc[slice(-2 + (ns % 2), 0, -1)]), axis=0)\n",
    "\n",
    "\n",
    "freq = fscale(window_samples, 1/samp, one_sided = True)\n",
    "\n",
    "spectra = np.zeros((nChans, len(freq)))\n",
    "\n",
    "for window in tqdm(np.arange(n_windows)):\n",
    "    start, end = int(windows[window, 0]), int(windows[window, 1])\n",
    "    trace = traces[:, start:end]\n",
    "    _, w = signal.welch(\n",
    "    trace/10E6, fs=samp, window='hann', nperseg=window_samples,\n",
    "    detrend='constant', return_onesided=True, scaling='density', axis=-1\n",
    "    )\n",
    "\n",
    "    spectra += w\n",
    "\n",
    "spectrum = spectra/n_windows"
   ]
  },
  {
   "cell_type": "code",
   "execution_count": null,
   "metadata": {},
   "outputs": [],
   "source": [
    "plot_range = (freq<=10) & (freq>=1) # find the frequencies we want to plot\n",
    "fig, ax = plt.subplots()\n",
    "\n",
    "# Correct method call for semilogy\n",
    "ax.semilogy(freq[plot_range], spectrum[0, plot_range])"
   ]
  },
  {
   "cell_type": "code",
   "execution_count": null,
   "metadata": {},
   "outputs": [],
   "source": [
    "freq_per_channel = {\n",
    "    'channel': np.arange(len(probe1.channel_ids)), \n",
    "    'pxx': spectrum, \n",
    "    'f': freq\n",
    "    }\n",
    "\n"
   ]
  },
  {
   "cell_type": "markdown",
   "metadata": {},
   "source": [
    "### Obtain multitaper power spectrum"
   ]
  },
  {
   "cell_type": "markdown",
   "metadata": {},
   "source": [
    "They want to have a look at power in Dbs in the delta band (0-4 Hz). We use multitaper because the window is so short.  "
   ]
  },
  {
   "cell_type": "code",
   "execution_count": null,
   "metadata": {},
   "outputs": [],
   "source": [
    "psd = multitaper.MTSpec(x=traces[0,:]/10E6, dt=1.0/samp, nw=5) # run the multitaper spectrum\n",
    "pxx, f = psd.spec, psd.freq # unpack power spectrum and frequency from output\n",
    "plot_range = (f<=10) & (f>=0) # find the frequencies we want to plot\n",
    "plt.semilogy(f[plot_range],pxx[plot_range])\n",
    "plt.xlabel('frequency (Hz)')\n",
    "plt.ylabel('power (V**2)')"
   ]
  },
  {
   "cell_type": "code",
   "execution_count": null,
   "metadata": {},
   "outputs": [],
   "source": [
    "# Define your trace and sampling rate\n",
    "trace = traces[0, :] / 10E6  # Example trace, adjust scaling as needed\n",
    "n = len(trace)\n",
    "dt = 1.0 / samp  # Sampling interval\n",
    "\n",
    "# Run FFT\n",
    "fft_values = np.fft.rfft(trace)\n",
    "frequencies = np.fft.rfftfreq(n, dt)\n",
    "\n",
    "# Calculate the power spectral density (PSD)\n",
    "psd = np.abs(fft_values) ** 2 / n\n",
    "\n",
    "# Define the frequency range (0 to 10 Hz)\n",
    "plot_range = (frequencies <= 10) & (frequencies >= 0)\n",
    "\n",
    "# Plot the power spectral density\n",
    "plt.semilogy(frequencies[plot_range], psd[plot_range])\n",
    "plt.xlabel('Frequency (Hz)')\n",
    "plt.ylabel('Power (V^2)')\n",
    "plt.show()"
   ]
  },
  {
   "cell_type": "code",
   "execution_count": null,
   "metadata": {},
   "outputs": [],
   "source": [
    "# Define the frequency range of interest (0-4 Hz)\n",
    "band_range = (f >= 0) & (f <= 4)\n",
    "\n",
    "# Calculate the total power in the 0-4 Hz band by summing the power values in that range\n",
    "power_band = np.sum(pxx[band_range])\n",
    "\n",
    "# Convert the power to dB\n",
    "power_db = 10 * np.log10(power_band)\n",
    "\n",
    "power_db"
   ]
  },
  {
   "cell_type": "markdown",
   "metadata": {},
   "source": [
    "Let's do it for all 96"
   ]
  },
  {
   "cell_type": "code",
   "execution_count": null,
   "metadata": {},
   "outputs": [],
   "source": [
    "pxx_list = list(np.zeros(96))\n",
    "f_list = list(np.zeros(96))\n",
    "\n",
    "for i in tqdm(np.arange(len(pxx_list))):\n",
    "    print (i)\n",
    "    psd = multitaper.MTSpec(x=traces[i,:]/10E6, dt=1.0/samp, nw=5) # run the multitaper spectrum\n",
    "    pxx, f = psd.spec, psd.freq # unpack power spectrum and frequency from output\n",
    "    pxx_list[i] = pxx\n",
    "    f_list[i] = f"
   ]
  },
  {
   "cell_type": "code",
   "execution_count": null,
   "metadata": {},
   "outputs": [],
   "source": [
    "freq_per_channel = {\n",
    "    'channel': np.arange(96), \n",
    "    'pxx': pxx_list, \n",
    "    'f': f_list\n",
    "}\n",
    "\n",
    "freq =  pd.DataFrame(freq_per_channel)"
   ]
  },
  {
   "cell_type": "code",
   "execution_count": null,
   "metadata": {},
   "outputs": [],
   "source": [
    "freq.to_csv('freq.csv')"
   ]
  },
  {
   "cell_type": "code",
   "execution_count": null,
   "metadata": {},
   "outputs": [],
   "source": [
    "def get_delta_power(pxx, f):\n",
    "    # Define the frequency range of interest (0-4 Hz)\n",
    "    band_range = (f >= 0) & (f <= 4)\n",
    "\n",
    "    # Calculate the total power in the 0-4 Hz band by summing the power values in that range\n",
    "    power_band = np.sum(pxx[band_range])\n",
    "\n",
    "    # Convert the power to dB\n",
    "    power_db = 10 * np.log10(power_band)\n",
    "\n",
    "    return power_db"
   ]
  },
  {
   "cell_type": "code",
   "execution_count": null,
   "metadata": {},
   "outputs": [],
   "source": [
    "freq['delta_power'] =  [get_delta_power(pxx, f) for pxx,f in zip(pxx_list, f_list)]"
   ]
  },
  {
   "cell_type": "code",
   "execution_count": null,
   "metadata": {},
   "outputs": [],
   "source": [
    "freq.to_csv('freq.csv')"
   ]
  },
  {
   "cell_type": "code",
   "execution_count": null,
   "metadata": {},
   "outputs": [],
   "source": [
    "probemap = probe1.get_probe().to_dataframe()"
   ]
  },
  {
   "cell_type": "code",
   "execution_count": null,
   "metadata": {},
   "outputs": [],
   "source": [
    "fig, ax = plt.subplots(figsize=(15, 10))\n",
    "si.plot_probe_map(probe1, ax=ax, with_channel_ids=True)\n",
    "ax.set_ylim(-100, 9000)"
   ]
  },
  {
   "cell_type": "code",
   "execution_count": null,
   "metadata": {},
   "outputs": [],
   "source": [
    "probemap"
   ]
  },
  {
   "cell_type": "code",
   "execution_count": null,
   "metadata": {},
   "outputs": [],
   "source": [
    "probemap['channel'] = probe1.channel_ids\n",
    "probemap['dbs'] = freq['delta_power']"
   ]
  },
  {
   "cell_type": "code",
   "execution_count": null,
   "metadata": {},
   "outputs": [],
   "source": [
    "fig, ax = plt.subplots()\n",
    "\n",
    "# Create a scatter plot\n",
    "sc = ax.scatter(probemap['x'], probemap['y'], c=probemap['dbs'], cmap='viridis', s=50)\n",
    "\n",
    "# Add color bar for the 'dfs' values (make sure to pass the scatter plot object `sc`)\n",
    "cbar = plt.colorbar(sc, ax=ax)\n",
    "cbar.set_label('Delta power (power in Db from 0 to 4 Hz in a signal in V)')\n",
    "\n",
    "# Set x-axis limits\n",
    "ax.set_xlim((100, 450))"
   ]
  },
  {
   "cell_type": "code",
   "execution_count": null,
   "metadata": {},
   "outputs": [],
   "source": [
    "\n",
    "probemap.to_csv('probemap.csv')"
   ]
  },
  {
   "cell_type": "code",
   "execution_count": null,
   "metadata": {},
   "outputs": [],
   "source": []
  }
 ],
 "metadata": {
  "kernelspec": {
   "display_name": "Python 3 (ipykernel)",
   "language": "python",
   "name": "python3"
  },
  "language_info": {
   "codemirror_mode": {
    "name": "ipython",
    "version": 3
   },
   "file_extension": ".py",
   "mimetype": "text/x-python",
   "name": "python",
   "nbconvert_exporter": "python",
   "pygments_lexer": "ipython3",
   "version": "3.9.19"
  }
 },
 "nbformat": 4,
 "nbformat_minor": 2
}
